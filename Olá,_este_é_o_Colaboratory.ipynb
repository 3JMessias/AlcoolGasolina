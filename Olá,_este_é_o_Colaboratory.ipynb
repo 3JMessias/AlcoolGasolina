{
  "nbformat": 4,
  "nbformat_minor": 0,
  "metadata": {
    "colab": {
      "name": "Olá, este é o Colaboratory",
      "provenance": [],
      "collapsed_sections": [],
      "toc_visible": true,
      "include_colab_link": true
    },
    "kernelspec": {
      "display_name": "Python 3",
      "name": "python3"
    }
  },
  "cells": [
    {
      "cell_type": "markdown",
      "metadata": {
        "id": "view-in-github",
        "colab_type": "text"
      },
      "source": [
        "<a href=\"https://colab.research.google.com/github/3JMessias/AlcoolGasolina/blob/master/Ol%C3%A1%2C_este_%C3%A9_o_Colaboratory.ipynb\" target=\"_parent\"><img src=\"https://colab.research.google.com/assets/colab-badge.svg\" alt=\"Open In Colab\"/></a>"
      ]
    },
    {
      "cell_type": "markdown",
      "metadata": {
        "id": "OEVGrROFcf5f"
      },
      "source": [
        "# Nova seção"
      ]
    },
    {
      "cell_type": "code",
      "metadata": {
        "colab": {
          "base_uri": "https://localhost:8080/",
          "height": 35
        },
        "id": "Ai9yphO1chqG",
        "outputId": "1a3b718c-ef3a-418b-e7b7-8fc379ac89a7"
      },
      "source": [
        "texto = \"primeiro texto a ser invertido\"\r\n",
        "\r\n",
        "def invertTexto(item):\r\n",
        "  texto = item.split()\r\n",
        "  texto.reverse()\r\n",
        "  return ' '.join(texto)\r\n",
        "\r\n",
        "invertTexto(texto)"
      ],
      "execution_count": 32,
      "outputs": [
        {
          "output_type": "execute_result",
          "data": {
            "application/vnd.google.colaboratory.intrinsic+json": {
              "type": "string"
            },
            "text/plain": [
              "'invertido ser a texto primeiro'"
            ]
          },
          "metadata": {
            "tags": []
          },
          "execution_count": 32
        }
      ]
    },
    {
      "cell_type": "code",
      "metadata": {
        "colab": {
          "base_uri": "https://localhost:8080/",
          "height": 35
        },
        "id": "ISh98KGApO4i",
        "outputId": "ff406e61-f087-465d-d6da-55178285a657"
      },
      "source": [
        "def ex2(a, b):\r\n",
        "  if len(a)<len(b): return a+ b+ a\r\n",
        "  else: return b+a+b\r\n",
        "\r\n",
        "ex2('U', 'False')"
      ],
      "execution_count": 31,
      "outputs": [
        {
          "output_type": "execute_result",
          "data": {
            "application/vnd.google.colaboratory.intrinsic+json": {
              "type": "string"
            },
            "text/plain": [
              "'UFalseU'"
            ]
          },
          "metadata": {
            "tags": []
          },
          "execution_count": 31
        }
      ]
    },
    {
      "cell_type": "code",
      "metadata": {
        "colab": {
          "base_uri": "https://localhost:8080/",
          "height": 35
        },
        "id": "4-8zY0Lf-z6X",
        "outputId": "8225fbfd-d69f-4160-9120-d4b4e9109e3d"
      },
      "source": [
        "def greet(name):\r\n",
        "    return \"Hello, {} how are you doing today?\".format(name)\r\n",
        "\r\n",
        "greet('Johny Messias')"
      ],
      "execution_count": 35,
      "outputs": [
        {
          "output_type": "execute_result",
          "data": {
            "application/vnd.google.colaboratory.intrinsic+json": {
              "type": "string"
            },
            "text/plain": [
              "'Hello, Johny Messias how are you doing today?'"
            ]
          },
          "metadata": {
            "tags": []
          },
          "execution_count": 35
        }
      ]
    }
  ]
}